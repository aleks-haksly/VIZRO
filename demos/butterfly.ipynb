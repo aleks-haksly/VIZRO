{
  "nbformat": 4,
  "nbformat_minor": 0,
  "metadata": {
    "colab": {
      "provenance": [],
      "authorship_tag": "ABX9TyMFxaMdzxYLj6gVTjCoQqIe",
      "include_colab_link": true
    },
    "kernelspec": {
      "name": "python3",
      "display_name": "Python 3"
    },
    "language_info": {
      "name": "python"
    }
  },
  "cells": [
    {
      "cell_type": "markdown",
      "metadata": {
        "id": "view-in-github",
        "colab_type": "text"
      },
      "source": [
        "<a href=\"https://colab.research.google.com/github/aleks-haksly/VIZRO/blob/main/demos/butterfly.ipynb\" target=\"_parent\"><img src=\"https://colab.research.google.com/assets/colab-badge.svg\" alt=\"Open In Colab\"/></a>"
      ]
    },
    {
      "cell_type": "code",
      "source": [
        "!pip install vizro -q"
      ],
      "metadata": {
        "colab": {
          "base_uri": "https://localhost:8080/"
        },
        "id": "0bqkkyPbQDoP",
        "outputId": "1315bff9-67ee-441b-f606-241c8f9fe27f"
      },
      "execution_count": null,
      "outputs": [
        {
          "output_type": "stream",
          "name": "stdout",
          "text": [
            "\u001b[2K     \u001b[90m━━━━━━━━━━━━━━━━━━━━━━━━━━━━━━━━━━━━━━━━\u001b[0m \u001b[32m79.2/79.2 kB\u001b[0m \u001b[31m5.5 MB/s\u001b[0m eta \u001b[36m0:00:00\u001b[0m\n",
            "\u001b[2K   \u001b[90m━━━━━━━━━━━━━━━━━━━━━━━━━━━━━━━━━━━━━━━━\u001b[0m \u001b[32m857.0/857.0 kB\u001b[0m \u001b[31m11.6 MB/s\u001b[0m eta \u001b[36m0:00:00\u001b[0m\n",
            "\u001b[2K   \u001b[90m━━━━━━━━━━━━━━━━━━━━━━━━━━━━━━━━━━━━━━━━\u001b[0m \u001b[32m7.8/7.8 MB\u001b[0m \u001b[31m14.8 MB/s\u001b[0m eta \u001b[36m0:00:00\u001b[0m\n",
            "\u001b[2K   \u001b[90m━━━━━━━━━━━━━━━━━━━━━━━━━━━━━━━━━━━━━━━━\u001b[0m \u001b[32m3.9/3.9 MB\u001b[0m \u001b[31m41.0 MB/s\u001b[0m eta \u001b[36m0:00:00\u001b[0m\n",
            "\u001b[2K   \u001b[90m━━━━━━━━━━━━━━━━━━━━━━━━━━━━━━━━━━━━━━━━\u001b[0m \u001b[32m500.8/500.8 kB\u001b[0m \u001b[31m14.8 MB/s\u001b[0m eta \u001b[36m0:00:00\u001b[0m\n",
            "\u001b[2K   \u001b[90m━━━━━━━━━━━━━━━━━━━━━━━━━━━━━━━━━━━━━━━━\u001b[0m \u001b[32m1.8/1.8 MB\u001b[0m \u001b[31m31.4 MB/s\u001b[0m eta \u001b[36m0:00:00\u001b[0m\n",
            "\u001b[2K   \u001b[90m━━━━━━━━━━━━━━━━━━━━━━━━━━━━━━━━━━━━━━━━\u001b[0m \u001b[32m222.5/222.5 kB\u001b[0m \u001b[31m13.3 MB/s\u001b[0m eta \u001b[36m0:00:00\u001b[0m\n",
            "\u001b[2K   \u001b[90m━━━━━━━━━━━━━━━━━━━━━━━━━━━━━━━━━━━━━━━━\u001b[0m \u001b[32m101.7/101.7 kB\u001b[0m \u001b[31m7.1 MB/s\u001b[0m eta \u001b[36m0:00:00\u001b[0m\n",
            "\u001b[2K   \u001b[90m━━━━━━━━━━━━━━━━━━━━━━━━━━━━━━━━━━━━━━━━\u001b[0m \u001b[32m62.7/62.7 kB\u001b[0m \u001b[31m4.7 MB/s\u001b[0m eta \u001b[36m0:00:00\u001b[0m\n",
            "\u001b[2K   \u001b[90m━━━━━━━━━━━━━━━━━━━━━━━━━━━━━━━━━━━━━━━━\u001b[0m \u001b[32m228.0/228.0 kB\u001b[0m \u001b[31m10.0 MB/s\u001b[0m eta \u001b[36m0:00:00\u001b[0m\n",
            "\u001b[?25h"
          ]
        }
      ]
    },
    {
      "cell_type": "code",
      "source": [
        "from sqlalchemy import text\n",
        "from sqlalchemy import create_engine\n",
        "import pandas as pd\n",
        "from google.colab import userdata\n",
        "\n",
        "\n",
        "engine = create_engine(userdata.get(\"supabase\"), client_encoding='utf8', )\n",
        "\n",
        "def select(sql):\n",
        "    sql = text(sql)\n",
        "    return pd.read_sql(sql, engine)"
      ],
      "metadata": {
        "id": "d_44LBr7QuZi"
      },
      "execution_count": null,
      "outputs": []
    },
    {
      "cell_type": "code",
      "source": [
        "sql = \"\"\"\n",
        "SELECT date, date_part('hour', ts)::int as hour, platform, query\n",
        "FROM vizro.yandex_data\n",
        "\"\"\"\n",
        "query_df = select(sql)"
      ],
      "metadata": {
        "id": "OVZBac8FqSMo"
      },
      "execution_count": null,
      "outputs": []
    },
    {
      "cell_type": "code",
      "source": [
        "def butterfly_transform_data(df: pd.DataFrame) -> pd.DataFrame:\n",
        "  query_df = df.copy()\n",
        "  query_df['date'] = pd.to_datetime(query_df['date'],  format='%y-%m-%d')\n",
        "  total = query_df.groupby(\"platform\")[\"date\"].count().to_dict()\n",
        "  filtered = query_df[query_df['query'].isin(set(query_df.groupby(['platform', 'query'], as_index=False)['date'].count().sort_values(by='date',ascending=False).groupby('platform', as_index=False).head(10)[\"query\"]))]\n",
        "  filtered_group = filtered.groupby(['platform', 'query'])[\"date\"].count().unstack(level=0)\n",
        "  filtered_group.reset_index(inplace=True)\n",
        "  for k, v in total.items():\n",
        "    filtered_group[f'{k}_%'] = filtered_group[k] / v\n",
        "  return filtered_group"
      ],
      "metadata": {
        "id": "lho-VZvIQmkI"
      },
      "execution_count": null,
      "outputs": []
    },
    {
      "cell_type": "code",
      "source": [
        "import plotly.express as px\n",
        "import plotly.graph_objects as go\n",
        "import vizro.models as vm\n",
        "from vizro import Vizro\n",
        "from vizro.models.types import capture\n",
        "\n",
        "\n",
        "@capture(\"graph\")\n",
        "def butterfly(data_frame: pd.DataFrame, **kwargs) -> go.Figure:\n",
        "    fig = px.bar(data_frame, **kwargs)\n",
        "\n",
        "    orientation = fig.data[0].orientation\n",
        "    x_or_y = \"x\" if orientation == \"h\" else \"y\"\n",
        "\n",
        "    fig.update_traces({f\"{x_or_y}axis\": f\"{x_or_y}2\"}, selector=1)\n",
        "    fig.update_layout({f\"{x_or_y}axis2\": fig.layout[f\"{x_or_y}axis\"]})\n",
        "    fig.update_layout(\n",
        "        {\n",
        "            f\"{x_or_y}axis\": {\"autorange\": \"reversed\", \"domain\": [0, 0.5]},\n",
        "            f\"{x_or_y}axis2\": {\"domain\": [0.5, 1]},\n",
        "        }\n",
        "    )\n",
        "\n",
        "    if orientation == \"h\":\n",
        "        fig.add_vline(x=0, line_width=2, line_color=\"grey\")\n",
        "    else:\n",
        "        fig.add_hline(y=0, line_width=2, line_color=\"grey\")\n",
        "    fig.data[0].hovertemplate = '<b>%{hovertext}</b><br>% of all=%{x:.2%}<br>qty=%{customdata[0]}<extra></extra>'\n",
        "    fig.data[0].name = 'desktop'\n",
        "    fig.data[1].hovertemplate = '<b>%{hovertext}</b><br>% of all=%{x:.2%}<br>qty=%{customdata[1]}<extra></extra>'\n",
        "    fig.data[1].name = 'touch'\n",
        "    fig.update_yaxes(categoryorder='min ascending')\n",
        "\n",
        "    return fig\n",
        "\n",
        "\n",
        "\n",
        "fig = butterfly(\n",
        "    butterfly_transform_data(query_df),\n",
        "    x=[\"desktop_%\", \"touch_%\"],\n",
        "    y=\"query\",\n",
        "    labels={\"value\": \"% of all\", \"variable\": \"platform:\"},\n",
        "    hover_name=\"query\", hover_data={'query': False, 'desktop': True, 'touch': True },\n",
        ")\n",
        "\n",
        "page = vm.Page(title=\"My page\", components=[vm.Graph(figure=fig)])\n",
        "dashboard = vm.Dashboard(pages=[page])\n",
        "Vizro().build(dashboard).run()"
      ],
      "metadata": {
        "colab": {
          "base_uri": "https://localhost:8080/",
          "height": 672
        },
        "id": "jQVBf_d51Hw1",
        "outputId": "126fbafc-6829-494a-80e6-70fbbcba875f"
      },
      "execution_count": null,
      "outputs": [
        {
          "output_type": "display_data",
          "data": {
            "text/plain": [
              "<IPython.core.display.Javascript object>"
            ],
            "application/javascript": [
              "(async (port, path, width, height, cache, element) => {\n",
              "    if (!google.colab.kernel.accessAllowed && !cache) {\n",
              "      return;\n",
              "    }\n",
              "    element.appendChild(document.createTextNode(''));\n",
              "    const url = await google.colab.kernel.proxyPort(port, {cache});\n",
              "    const iframe = document.createElement('iframe');\n",
              "    iframe.src = new URL(path, url).toString();\n",
              "    iframe.height = height;\n",
              "    iframe.width = width;\n",
              "    iframe.style.border = 0;\n",
              "    iframe.allow = [\n",
              "        'accelerometer',\n",
              "        'autoplay',\n",
              "        'camera',\n",
              "        'clipboard-read',\n",
              "        'clipboard-write',\n",
              "        'gyroscope',\n",
              "        'magnetometer',\n",
              "        'microphone',\n",
              "        'serial',\n",
              "        'usb',\n",
              "        'xr-spatial-tracking',\n",
              "    ].join('; ');\n",
              "    element.appendChild(iframe);\n",
              "  })(8050, \"/\", \"100%\", 650, false, window.element)"
            ]
          },
          "metadata": {}
        }
      ]
    },
    {
      "cell_type": "code",
      "source": [],
      "metadata": {
        "id": "Byk4N2iIP6oN"
      },
      "execution_count": null,
      "outputs": []
    }
  ]
}