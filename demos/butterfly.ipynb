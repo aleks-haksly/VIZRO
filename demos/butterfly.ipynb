{
  "nbformat": 4,
  "nbformat_minor": 0,
  "metadata": {
    "colab": {
      "provenance": [],
      "authorship_tag": "ABX9TyPpzjmlBudG46u9v9kQ+C8c",
      "include_colab_link": true
    },
    "kernelspec": {
      "name": "python3",
      "display_name": "Python 3"
    },
    "language_info": {
      "name": "python"
    }
  },
  "cells": [
    {
      "cell_type": "markdown",
      "metadata": {
        "id": "view-in-github",
        "colab_type": "text"
      },
      "source": [
        "<a href=\"https://colab.research.google.com/github/aleks-haksly/VIZRO/blob/main/demos/butterfly.ipynb\" target=\"_parent\"><img src=\"https://colab.research.google.com/assets/colab-badge.svg\" alt=\"Open In Colab\"/></a>"
      ]
    },
    {
      "cell_type": "code",
      "source": [
        "!pip install vizro -q"
      ],
      "metadata": {
        "colab": {
          "base_uri": "https://localhost:8080/"
        },
        "id": "0bqkkyPbQDoP",
        "outputId": "83ffef88-6847-416c-b4a7-a46f8d175395"
      },
      "execution_count": 1,
      "outputs": [
        {
          "output_type": "stream",
          "name": "stdout",
          "text": [
            "\u001b[2K     \u001b[90m━━━━━━━━━━━━━━━━━━━━━━━━━━━━━━━━━━━━━━━━\u001b[0m \u001b[32m79.2/79.2 kB\u001b[0m \u001b[31m2.0 MB/s\u001b[0m eta \u001b[36m0:00:00\u001b[0m\n",
            "\u001b[2K   \u001b[90m━━━━━━━━━━━━━━━━━━━━━━━━━━━━━━━━━━━━━━━━\u001b[0m \u001b[32m857.0/857.0 kB\u001b[0m \u001b[31m15.1 MB/s\u001b[0m eta \u001b[36m0:00:00\u001b[0m\n",
            "\u001b[2K   \u001b[90m━━━━━━━━━━━━━━━━━━━━━━━━━━━━━━━━━━━━━━━━\u001b[0m \u001b[32m7.8/7.8 MB\u001b[0m \u001b[31m48.1 MB/s\u001b[0m eta \u001b[36m0:00:00\u001b[0m\n",
            "\u001b[2K   \u001b[90m━━━━━━━━━━━━━━━━━━━━━━━━━━━━━━━━━━━━━━━━\u001b[0m \u001b[32m3.9/3.9 MB\u001b[0m \u001b[31m26.1 MB/s\u001b[0m eta \u001b[36m0:00:00\u001b[0m\n",
            "\u001b[2K   \u001b[90m━━━━━━━━━━━━━━━━━━━━━━━━━━━━━━━━━━━━━━━━\u001b[0m \u001b[32m500.8/500.8 kB\u001b[0m \u001b[31m20.0 MB/s\u001b[0m eta \u001b[36m0:00:00\u001b[0m\n",
            "\u001b[2K   \u001b[90m━━━━━━━━━━━━━━━━━━━━━━━━━━━━━━━━━━━━━━━━\u001b[0m \u001b[32m1.8/1.8 MB\u001b[0m \u001b[31m36.5 MB/s\u001b[0m eta \u001b[36m0:00:00\u001b[0m\n",
            "\u001b[2K   \u001b[90m━━━━━━━━━━━━━━━━━━━━━━━━━━━━━━━━━━━━━━━━\u001b[0m \u001b[32m222.5/222.5 kB\u001b[0m \u001b[31m8.4 MB/s\u001b[0m eta \u001b[36m0:00:00\u001b[0m\n",
            "\u001b[2K   \u001b[90m━━━━━━━━━━━━━━━━━━━━━━━━━━━━━━━━━━━━━━━━\u001b[0m \u001b[32m101.7/101.7 kB\u001b[0m \u001b[31m3.8 MB/s\u001b[0m eta \u001b[36m0:00:00\u001b[0m\n",
            "\u001b[2K   \u001b[90m━━━━━━━━━━━━━━━━━━━━━━━━━━━━━━━━━━━━━━━━\u001b[0m \u001b[32m62.7/62.7 kB\u001b[0m \u001b[31m3.4 MB/s\u001b[0m eta \u001b[36m0:00:00\u001b[0m\n",
            "\u001b[2K   \u001b[90m━━━━━━━━━━━━━━━━━━━━━━━━━━━━━━━━━━━━━━━━\u001b[0m \u001b[32m228.0/228.0 kB\u001b[0m \u001b[31m10.2 MB/s\u001b[0m eta \u001b[36m0:00:00\u001b[0m\n",
            "\u001b[?25h"
          ]
        }
      ]
    },
    {
      "cell_type": "code",
      "source": [
        "from sqlalchemy import text\n",
        "from sqlalchemy import create_engine\n",
        "import pandas as pd\n",
        "from google.colab import userdata\n",
        "\n",
        "\n",
        "engine = create_engine(userdata.get(\"supabase\"), client_encoding='utf8', )\n",
        "\n",
        "def select(sql):\n",
        "    sql = text(sql)\n",
        "    return pd.read_sql(sql, engine)"
      ],
      "metadata": {
        "id": "d_44LBr7QuZi"
      },
      "execution_count": 2,
      "outputs": []
    },
    {
      "cell_type": "code",
      "source": [
        "SQL_TEMPLATE = \"\"\"\n",
        "WITH t as (\n",
        "SELECT\n",
        "    query,\n",
        "    platform,\n",
        "    count(*) AS cnt,\n",
        "    sum(count(*)::int) OVER (PARTITION BY query) as query_total,\n",
        "    sum(count(*)::int) OVER (PARTITION BY platform) as platform_total\n",
        "FROM\n",
        "    vizro.yandex_data yd\n",
        "WHERE\n",
        "    ts BETWEEN '{start_date}' AND '{end_date}'\n",
        "GROUP BY\n",
        "    query, platform)\n",
        "\n",
        "SELECT\n",
        "    query,\n",
        "    sum(case when platform = 'desktop' then cnt else 0 end)::int as count_desktop,\n",
        "    sum(case when platform = 'touch' then cnt else 0 end)::int as count_touch,\n",
        "    max(case when platform = 'desktop' then platform_total else 0 end) as desktop_total,\n",
        "    max(case when platform = 'touch' then platform_total else 0 end) as touch_total\n",
        "FROM t\n",
        "    WHERE t.query_total >= {min_cnt}\n",
        "GROUP BY query\n",
        "\"\"\""
      ],
      "metadata": {
        "id": "OVZBac8FqSMo"
      },
      "execution_count": 3,
      "outputs": []
    },
    {
      "cell_type": "code",
      "source": [
        "def get_table_data(sql=SQL_TEMPLATE, min_cnt=50, range=['2021-09-08', '2021-09-21']) -> pd.DataFrame:\n",
        "  start_date, end_date = range\n",
        "  sql = SQL_TEMPLATE.format(start_date=start_date, end_date=end_date, min_cnt=min_cnt)\n",
        "  query_df = select(sql)\n",
        "  #query_df = pd.concat([query_df.sort_values(by=\"count_desktop\", ascending=False).head(10),  query_df.sort_values(by=\"count_touch\", ascending=False).head(10)], axis=0).drop_duplicates(subset=['query'])\n",
        "  query_df['pct_desktop'] = query_df['count_desktop'] / query_df['desktop_total']\n",
        "  query_df['pct_touch'] = query_df['count_touch'] / query_df['touch_total']\n",
        "  query_df[\"pval\"] = query_df.apply(proportions_chi2, axis=1)\n",
        "  return query_df"
      ],
      "metadata": {
        "id": "lho-VZvIQmkI"
      },
      "execution_count": 4,
      "outputs": []
    },
    {
      "cell_type": "code",
      "source": [
        "import plotly.express as px\n",
        "import plotly.graph_objects as go\n",
        "import vizro.models as vm\n",
        "from vizro import Vizro\n",
        "from vizro.models.types import capture\n",
        "from vizro.managers import data_manager\n",
        "\n",
        "\n",
        "data_manager['table_data'] = get_table_data\n",
        "\n",
        "@capture(\"graph\")\n",
        "def butterfly(data_frame: pd.DataFrame, **kwargs) -> go.Figure:\n",
        "    fig = px.bar(data_frame, **kwargs)\n",
        "\n",
        "    orientation = fig.data[0].orientation\n",
        "    x_or_y = \"x\" if orientation == \"h\" else \"y\"\n",
        "\n",
        "    fig.update_traces({f\"{x_or_y}axis\": f\"{x_or_y}2\"}, selector=1)\n",
        "    fig.update_layout({f\"{x_or_y}axis2\": fig.layout[f\"{x_or_y}axis\"]})\n",
        "    fig.update_layout(\n",
        "        {\n",
        "            f\"{x_or_y}axis\": {\"autorange\": \"reversed\", \"domain\": [0, 0.5]},\n",
        "            f\"{x_or_y}axis2\": {\"domain\": [0.5, 1]},\n",
        "        }\n",
        "    )\n",
        "\n",
        "    if orientation == \"h\":\n",
        "        fig.add_vline(x=0, line_width=2, line_color=\"grey\")\n",
        "    else:\n",
        "        fig.add_hline(y=0, line_width=2, line_color=\"grey\")\n",
        "    fig.data[0].hovertemplate = '<b>%{hovertext}</b><br>% of all=%{x:.2%}<br>qty=%{customdata[0]}<extra></extra>'\n",
        "    fig.data[0].name = 'desktop'\n",
        "    fig.data[1].hovertemplate = '<b>%{hovertext}</b><br>% of all=%{x:.2%}<br>qty=%{customdata[1]}<extra></extra>'\n",
        "    fig.data[1].name = 'touch'\n",
        "    fig.update_yaxes(categoryorder='min ascending')\n",
        "\n",
        "    return fig\n",
        "\n",
        "\n",
        "\n",
        "fig = butterfly(\n",
        "    'table_data',\n",
        "    x=[\"pct_desktop\", \"pct_touch\"],\n",
        "    y=\"query\",\n",
        "    labels={\"value\": \"% of all\", \"variable\": \"platform:\"},\n",
        "    hover_name=\"query\", hover_data={'query': False, 'count_desktop': True, 'count_touch': True },\n",
        ")\n",
        "\n",
        "page = vm.Page(title=\"My page\", components=[vm.Graph(figure=fig)])\n",
        "dashboard = vm.Dashboard(pages=[page])\n",
        "Vizro().build(dashboard).run()"
      ],
      "metadata": {
        "colab": {
          "base_uri": "https://localhost:8080/",
          "height": 671
        },
        "id": "jQVBf_d51Hw1",
        "outputId": "b38c32c8-7598-41d7-bcd0-18a4872f3f18"
      },
      "execution_count": 5,
      "outputs": [
        {
          "output_type": "display_data",
          "data": {
            "text/plain": [
              "<IPython.core.display.Javascript object>"
            ],
            "application/javascript": [
              "(async (port, path, width, height, cache, element) => {\n",
              "    if (!google.colab.kernel.accessAllowed && !cache) {\n",
              "      return;\n",
              "    }\n",
              "    element.appendChild(document.createTextNode(''));\n",
              "    const url = await google.colab.kernel.proxyPort(port, {cache});\n",
              "    const iframe = document.createElement('iframe');\n",
              "    iframe.src = new URL(path, url).toString();\n",
              "    iframe.height = height;\n",
              "    iframe.width = width;\n",
              "    iframe.style.border = 0;\n",
              "    iframe.allow = [\n",
              "        'accelerometer',\n",
              "        'autoplay',\n",
              "        'camera',\n",
              "        'clipboard-read',\n",
              "        'clipboard-write',\n",
              "        'gyroscope',\n",
              "        'magnetometer',\n",
              "        'microphone',\n",
              "        'serial',\n",
              "        'usb',\n",
              "        'xr-spatial-tracking',\n",
              "    ].join('; ');\n",
              "    element.appendChild(iframe);\n",
              "  })(8050, \"/\", \"100%\", 650, false, window.element)"
            ]
          },
          "metadata": {}
        }
      ]
    },
    {
      "cell_type": "code",
      "source": [],
      "metadata": {
        "id": "pHCmdafEiKIV"
      },
      "execution_count": 5,
      "outputs": []
    }
  ]
}